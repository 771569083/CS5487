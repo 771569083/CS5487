{
 "cells": [
  {
   "cell_type": "code",
   "execution_count": 89,
   "metadata": {},
   "outputs": [
    {
     "data": {
      "text/plain": [
       "'c:\\\\Users\\\\huancwang2\\\\Documents\\\\CS5487\\\\Assignment\\\\PS4 coding part'"
      ]
     },
     "execution_count": 89,
     "metadata": {},
     "output_type": "execute_result"
    }
   ],
   "source": [
    "import pandas as pd\n",
    "import numpy as np\n",
    "import random\n",
    "import scipy\n",
    "from scipy.special import factorial\n",
    "import math  \n",
    "import copy  \n",
    "import matplotlib.pyplot as plt  \n",
    "%pwd"
   ]
  },
  {
   "cell_type": "code",
   "execution_count": 90,
   "metadata": {},
   "outputs": [
    {
     "data": {
      "text/plain": [
       "(1, 576)"
      ]
     },
     "execution_count": 90,
     "metadata": {},
     "output_type": "execute_result"
    }
   ],
   "source": [
    "# data from the problm for each city\n",
    "\n",
    "London_data = np.concatenate ( (np.zeros((1, 229)), np.ones((1, 211)), 2 * np.ones((1, 93)), \n",
    "3 * np.ones((1, 35)), 4 * np.ones((1, 7)), 5 * np.ones((1, 1)) ), axis=1 )\n",
    "London_data\n",
    "np.random.shuffle(London_data[0])\n",
    "\n",
    "Antwep_data = np.concatenate ( (np.zeros((1, 325)), np.ones((1, 115)), 2 * np.ones((1, 67)), \n",
    "3 * np.ones((1, 30)), 4 * np.ones((1, 18)), 5 * np.ones((1, 21)) ), axis=1 )\n",
    "np.random.shuffle(Antwep_data[0])\n",
    "\n",
    "London_data.shape"
   ]
  },
  {
   "cell_type": "code",
   "execution_count": 102,
   "metadata": {},
   "outputs": [
    {
     "name": "stdout",
     "output_type": "stream",
     "text": [
      "[array([0.89583333]), array([0.22978978, 2.19536519]), array([0.02158186, 0.55326463, 2.37445015]), array([0.00284947, 2.37600973, 0.53038559, 0.53034532]), array([2.19536519, 2.19536519, 2.19536519, 2.19536519, 0.22978978])]\n"
     ]
    }
   ],
   "source": [
    "table_list = []\n",
    "\n",
    "def init_data(sample, k, N): \n",
    "    Pi = (1/k)*np.ones(k) \n",
    "    X = sample\n",
    "    lbda = 5 * np.random.random(k)\n",
    "    respon = np.zeros((sample.shape[1],k))  \n",
    "    return X, Pi, lbda, respon\n",
    "\n",
    "\n",
    "\n",
    "def E_step(X, Pi, lbda, respon, k, N):   \n",
    "    for i in range(0, N):  \n",
    "        Denom = 0 \n",
    "        Numer = [0.0] * k\n",
    "        for j in range(0, k):  \n",
    "            Numer[j] = (Pi[j] * (math.exp(-lbda[j]) * math.pow(lbda[j], X[0, i]))) / math.factorial(X[0, i])  # Poisson distribution\n",
    "            Denom += Numer[j]\n",
    "        for j in range(0, k):  \n",
    "            respon[i,j] = Numer[j] / Denom\n",
    "    return respon\n",
    "\n",
    "    \n",
    "    \n",
    "def M_step(X, Pi, lbda, respon, k,N):  \n",
    "    for j in range(0,k):  \n",
    "        Numer = 0  \n",
    "        Denom = 0  \n",
    "        for i in range(0,N):  \n",
    "            Numer += respon[i,j] * X[0,i]  \n",
    "            Denom += respon[i,j]  \n",
    "        lbda[j] = Numer / Denom\n",
    "        Pi[j] = Denom / N\n",
    "    return Pi, lbda\n",
    "        \n",
    "def EM_model(sample, k, N, iter_num, Epsilon): \n",
    "    X, Pi, lbda, respon = init_data(sample,k,N)  \n",
    "    for i in range(iter_num):   \n",
    "        respon = E_step(X, Pi, lbda, respon, k,N)  \n",
    "        Pi, lbda = M_step(X, Pi, lbda, respon, k,N)  \n",
    "        # print(i, lbda)\n",
    "    table_list.append(lbda)\n",
    "\n",
    "if __name__ == '__main__':\n",
    "    sample_dataset = Antwep_data\n",
    "    for i in range(1, 6):\n",
    "        k=i\n",
    "        iter_num = 1000 \n",
    "        epsilon = 0.0001 \n",
    "        np.random.shuffle(sample_dataset[0])\n",
    "        EM_model(sample_dataset, k, N=London_data.shape[1], iter_num=iter_num, Epsilon=epsilon) \n",
    "    print(table_list)\n",
    "    \n",
    "    import pandas as pd\n",
    "    df = pd.DataFrame(table_list)\n",
    "    "
   ]
  },
  {
   "cell_type": "code",
   "execution_count": 103,
   "metadata": {},
   "outputs": [
    {
     "data": {
      "text/html": [
       "<div>\n",
       "<style scoped>\n",
       "    .dataframe tbody tr th:only-of-type {\n",
       "        vertical-align: middle;\n",
       "    }\n",
       "\n",
       "    .dataframe tbody tr th {\n",
       "        vertical-align: top;\n",
       "    }\n",
       "\n",
       "    .dataframe thead th {\n",
       "        text-align: right;\n",
       "    }\n",
       "</style>\n",
       "<table border=\"1\" class=\"dataframe\">\n",
       "  <thead>\n",
       "    <tr style=\"text-align: right;\">\n",
       "      <th></th>\n",
       "      <th>1</th>\n",
       "      <th>2</th>\n",
       "      <th>3</th>\n",
       "      <th>4</th>\n",
       "      <th>5</th>\n",
       "    </tr>\n",
       "  </thead>\n",
       "  <tbody>\n",
       "    <tr>\n",
       "      <th>0</th>\n",
       "      <td>0.895833</td>\n",
       "      <td>0.000000</td>\n",
       "      <td>0.000000</td>\n",
       "      <td>0.000000</td>\n",
       "      <td>0.00000</td>\n",
       "    </tr>\n",
       "    <tr>\n",
       "      <th>1</th>\n",
       "      <td>0.229790</td>\n",
       "      <td>2.195365</td>\n",
       "      <td>0.000000</td>\n",
       "      <td>0.000000</td>\n",
       "      <td>0.00000</td>\n",
       "    </tr>\n",
       "    <tr>\n",
       "      <th>2</th>\n",
       "      <td>0.021582</td>\n",
       "      <td>0.553265</td>\n",
       "      <td>2.374450</td>\n",
       "      <td>0.000000</td>\n",
       "      <td>0.00000</td>\n",
       "    </tr>\n",
       "    <tr>\n",
       "      <th>3</th>\n",
       "      <td>0.002849</td>\n",
       "      <td>2.376010</td>\n",
       "      <td>0.530386</td>\n",
       "      <td>0.530345</td>\n",
       "      <td>0.00000</td>\n",
       "    </tr>\n",
       "    <tr>\n",
       "      <th>4</th>\n",
       "      <td>2.195365</td>\n",
       "      <td>2.195365</td>\n",
       "      <td>2.195365</td>\n",
       "      <td>2.195365</td>\n",
       "      <td>0.22979</td>\n",
       "    </tr>\n",
       "  </tbody>\n",
       "</table>\n",
       "</div>"
      ],
      "text/plain": [
       "          1         2         3         4        5\n",
       "0  0.895833  0.000000  0.000000  0.000000  0.00000\n",
       "1  0.229790  2.195365  0.000000  0.000000  0.00000\n",
       "2  0.021582  0.553265  2.374450  0.000000  0.00000\n",
       "3  0.002849  2.376010  0.530386  0.530345  0.00000\n",
       "4  2.195365  2.195365  2.195365  2.195365  0.22979"
      ]
     },
     "execution_count": 103,
     "metadata": {},
     "output_type": "execute_result"
    }
   ],
   "source": [
    "df = df.fillna(0)\n",
    "df.columns = [1,2,3,4,5]\n",
    "df"
   ]
  }
 ],
 "metadata": {
  "kernelspec": {
   "display_name": "Python 3.7.13 ('regular')",
   "language": "python",
   "name": "python3"
  },
  "language_info": {
   "codemirror_mode": {
    "name": "ipython",
    "version": 3
   },
   "file_extension": ".py",
   "mimetype": "text/x-python",
   "name": "python",
   "nbconvert_exporter": "python",
   "pygments_lexer": "ipython3",
   "version": "3.7.13"
  },
  "orig_nbformat": 4,
  "vscode": {
   "interpreter": {
    "hash": "ab49c40bc0364db123f8329a65a8672dbd28424e7b2b032fe5dcc5a978d04ce3"
   }
  }
 },
 "nbformat": 4,
 "nbformat_minor": 2
}
