{
 "cells": [
  {
   "cell_type": "markdown",
   "metadata": {},
   "source": [
    "# Part one"
   ]
  },
  {
   "cell_type": "code",
   "execution_count": 1,
   "metadata": {},
   "outputs": [],
   "source": [
    "# import each library for assignment\n",
    "\n",
    "import numpy as np\n",
    "import cmath\n",
    "import matplotlib.pyplot as plt\n",
    "from cvxopt import matrix\n",
    "from cvxopt import solvers"
   ]
  },
  {
   "cell_type": "code",
   "execution_count": 2,
   "metadata": {},
   "outputs": [
    {
     "ename": "NameError",
     "evalue": "name 'sample_X' is not defined",
     "output_type": "error",
     "traceback": [
      "\u001b[1;31m---------------------------------------------------------------------------\u001b[0m",
      "\u001b[1;31mNameError\u001b[0m                                 Traceback (most recent call last)",
      "\u001b[1;32m~\\AppData\\Local\\Temp\\ipykernel_2236\\1801599952.py\u001b[0m in \u001b[0;36m<module>\u001b[1;34m\u001b[0m\n\u001b[0;32m     62\u001b[0m \u001b[1;33m\u001b[0m\u001b[0m\n\u001b[0;32m     63\u001b[0m \u001b[0mx\u001b[0m\u001b[1;33m,\u001b[0m \u001b[0my\u001b[0m\u001b[1;33m,\u001b[0m \u001b[0mb\u001b[0m\u001b[1;33m,\u001b[0m \u001b[0md\u001b[0m \u001b[1;33m=\u001b[0m \u001b[0mdata_processing\u001b[0m\u001b[1;33m(\u001b[0m\u001b[1;33m)\u001b[0m\u001b[1;33m\u001b[0m\u001b[1;33m\u001b[0m\u001b[0m\n\u001b[1;32m---> 64\u001b[1;33m \u001b[0mtheta\u001b[0m \u001b[1;33m=\u001b[0m \u001b[0mL1_LS_Theta\u001b[0m\u001b[1;33m(\u001b[0m\u001b[0mx\u001b[0m\u001b[1;33m,\u001b[0m\u001b[0my\u001b[0m\u001b[1;33m,\u001b[0m \u001b[1;36m5\u001b[0m\u001b[1;33m)\u001b[0m\u001b[1;33m\u001b[0m\u001b[1;33m\u001b[0m\u001b[0m\n\u001b[0m\u001b[0;32m     65\u001b[0m \u001b[0mpred\u001b[0m \u001b[1;33m=\u001b[0m \u001b[0mpred_polyY\u001b[0m\u001b[1;33m(\u001b[0m\u001b[0mb\u001b[0m\u001b[1;33m,\u001b[0m \u001b[0mtheta\u001b[0m\u001b[1;33m,\u001b[0m \u001b[1;36m5\u001b[0m\u001b[1;33m)\u001b[0m\u001b[1;33m\u001b[0m\u001b[1;33m\u001b[0m\u001b[0m\n\u001b[0;32m     66\u001b[0m \u001b[0mprint\u001b[0m\u001b[1;33m(\u001b[0m\u001b[0mb\u001b[0m\u001b[1;33m.\u001b[0m\u001b[0mshape\u001b[0m\u001b[1;33m)\u001b[0m\u001b[1;33m\u001b[0m\u001b[1;33m\u001b[0m\u001b[0m\n",
      "\u001b[1;32m~\\AppData\\Local\\Temp\\ipykernel_2236\\1801599952.py\u001b[0m in \u001b[0;36mL1_LS_Theta\u001b[1;34m(SampleX, SampleY, K, lbda)\u001b[0m\n\u001b[0;32m     46\u001b[0m     \u001b[1;31m# To solve Lasso, construct the matrix:\u001b[0m\u001b[1;33m\u001b[0m\u001b[1;33m\u001b[0m\u001b[1;33m\u001b[0m\u001b[0m\n\u001b[0;32m     47\u001b[0m     \u001b[1;31m# X dimen:(2k, 1), H dimen:(2K, 2K), f dimen:(2K, 1), G based on constraint dimen: (2K, 2K), h (2K， 1) matrix\u001b[0m\u001b[1;33m\u001b[0m\u001b[1;33m\u001b[0m\u001b[1;33m\u001b[0m\u001b[0m\n\u001b[1;32m---> 48\u001b[1;33m     \u001b[0mPhi_mat\u001b[0m \u001b[1;33m=\u001b[0m \u001b[0mgenerate_Phi_mat\u001b[0m\u001b[1;33m(\u001b[0m\u001b[0msample_X\u001b[0m\u001b[1;33m,\u001b[0m \u001b[0mK\u001b[0m\u001b[1;33m)\u001b[0m\u001b[1;33m\u001b[0m\u001b[1;33m\u001b[0m\u001b[0m\n\u001b[0m\u001b[0;32m     49\u001b[0m     \u001b[0mPhi_square\u001b[0m \u001b[1;33m=\u001b[0m \u001b[0mnp\u001b[0m\u001b[1;33m.\u001b[0m\u001b[0mdot\u001b[0m\u001b[1;33m(\u001b[0m\u001b[0mPhi_mat\u001b[0m\u001b[1;33m,\u001b[0m \u001b[0mPhi_mat\u001b[0m\u001b[1;33m.\u001b[0m\u001b[0mT\u001b[0m\u001b[1;33m)\u001b[0m\u001b[1;33m\u001b[0m\u001b[1;33m\u001b[0m\u001b[0m\n\u001b[0;32m     50\u001b[0m     \u001b[0mPhi_y\u001b[0m \u001b[1;33m=\u001b[0m \u001b[0mnp\u001b[0m\u001b[1;33m.\u001b[0m\u001b[0mdot\u001b[0m\u001b[1;33m(\u001b[0m\u001b[0mPhi_mat\u001b[0m\u001b[1;33m,\u001b[0m \u001b[0msample_Y\u001b[0m\u001b[1;33m)\u001b[0m\u001b[1;33m\u001b[0m\u001b[1;33m\u001b[0m\u001b[0m\n",
      "\u001b[1;31mNameError\u001b[0m: name 'sample_X' is not defined"
     ]
    }
   ],
   "source": [
    "# load and process data\n",
    "\n",
    "def data_processing():\n",
    "\n",
    "    sample_X = np.loadtxt('./PA-1-data-text/polydata_data_sampx.txt')\n",
    "    sample_Y = np.loadtxt('./PA-1-data-text/polydata_data_sampy.txt')\n",
    "    poly_X = np.loadtxt('./PA-1-data-text/polydata_data_polyx.txt')\n",
    "    poly_Y = np.loadtxt('./PA-1-data-text/polydata_data_polyy.txt')\n",
    "\n",
    "    true_theta = np.loadtxt('./PA-1-data-text/polydata_data_thtrue.txt')\n",
    "\n",
    "    sample_X = sample_X.reshape(1, len(sample_X))\n",
    "    sample_Y = sample_Y.reshape(len(sample_Y), 1)\n",
    "\n",
    "    poly_X = poly_X.reshape(1, len(poly_X))\n",
    "    poly_Y = poly_Y.reshape(len(poly_Y), 1)\n",
    "\n",
    "    # print(sample_X.shape)\n",
    "    return sample_X, sample_Y, poly_X, poly_Y\n",
    "\n",
    "# generate Phi(x).\n",
    "def generate_Phix(X, K):\n",
    "    return np.array( [ X**k for k in range(K+1)]).reshape(K+1, 1)\n",
    "\n",
    "# generate Big Phi matrix dimen is (K, N).\n",
    "def generate_Phi_mat(Sample, K):\n",
    "    return np.array( [generate_Phix(x, K) for x in Sample[0]])[:,:, (Sample.shape[0]-1)].T\n",
    "\n",
    "# Do the prediction though the fixed Theta.\n",
    "def pred_polyY(polyX, Theta, K):\n",
    "    Phi_mat_T = generate_Phi_mat(polyX, K).T\n",
    "    pred_Y = np.dot(Phi_mat_T, Theta)\n",
    "    return pred_Y\n",
    "\n",
    "def least_squares_Theta(SampleX, SampleY, K):\n",
    "    Phi_mat = generate_Phi_mat(Sample=SampleX, K=K)\n",
    "    Theta = np.dot(np.linalg.inv(np.dot(Phi_mat, Phi_mat.T)), np.dot(Phi_mat, SampleY))\n",
    "    return Theta\n",
    "\n",
    "def Regular_LS_Theta(SampleX, SampleY, K, lbda=0.1):\n",
    "    Phi_mat = generate_Phi_mat(Sample=SampleX, K=K)\n",
    "    Theta = np.dot(np.linalg.inv(np.dot(Phi_mat, Phi_mat.T) + lbda * np.ones((K+1, K+1))), np.dot(Phi_mat, SampleY))\n",
    "    return Theta\n",
    "\n",
    "def L1_LS_Theta(SampleX, SampleY, K, lbda=1):\n",
    "    # To solve Lasso, construct the matrix: \n",
    "    # X dimen:(2k, 1), H dimen:(2K, 2K), f dimen:(2K, 1), G based on constraint dimen: (2K, 2K), h (2K， 1) matrix\n",
    "    Phi_mat = generate_Phi_mat(SampleX, K)\n",
    "    Phi_square = np.dot(Phi_mat, Phi_mat.T)\n",
    "    Phi_y = np.dot(Phi_mat, SampleY)\n",
    "    H_left = np.concatenate((Phi_square, -Phi_square), axis=0)\n",
    "    H = np.concatenate( (H_left, -H_left), axis=1 )\n",
    "    f = lbda*np.ones((2*K, 1)) - np.concatenate( (Phi_y, -Phi_y), axis=0 )\n",
    "    G = - np.identity(len(H))\n",
    "    h = np.zeros( (len(H), 1) )\n",
    "    Lasso_theta = solvers.qp(P=matrix(H), q=matrix(f), G=matrix(G), h=matrix(h))['x']\n",
    "    \n",
    "    # Lasso_theta is  [theta+, theta-]T, to get the theta = theta+ - theta-\n",
    "\n",
    "    Theta = Lasso_theta[:K] - Lasso_theta[K:]\n",
    "    \n",
    "\n",
    "x, y, b, d = data_processing()\n",
    "theta = L1_LS_Theta(x,y, 5)\n",
    "pred = pred_polyY(b, theta, 5)\n",
    "print(b.shape)\n",
    "plt.scatter(x[0], y)\n",
    "plt.plot(b[0], pred, 'b.')\n",
    "plt.show()"
   ]
  }
 ],
 "metadata": {
  "kernelspec": {
   "display_name": "Python 3.7.13 ('regular')",
   "language": "python",
   "name": "python3"
  },
  "language_info": {
   "codemirror_mode": {
    "name": "ipython",
    "version": 3
   },
   "file_extension": ".py",
   "mimetype": "text/x-python",
   "name": "python",
   "nbconvert_exporter": "python",
   "pygments_lexer": "ipython3",
   "version": "3.7.13"
  },
  "orig_nbformat": 4,
  "vscode": {
   "interpreter": {
    "hash": "ab49c40bc0364db123f8329a65a8672dbd28424e7b2b032fe5dcc5a978d04ce3"
   }
  }
 },
 "nbformat": 4,
 "nbformat_minor": 2
}
