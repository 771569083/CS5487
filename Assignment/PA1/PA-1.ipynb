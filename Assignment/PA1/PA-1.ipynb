{
 "cells": [
  {
   "cell_type": "markdown",
   "metadata": {},
   "source": [
    "# Part one"
   ]
  },
  {
   "cell_type": "code",
   "execution_count": 3,
   "metadata": {},
   "outputs": [],
   "source": [
    "# import each library for assignment\n",
    "\n",
    "import numpy as np\n",
    "import cmath\n",
    "import matplotlib.pyplot as plt\n",
    "from cvxopt import matrix\n",
    "from cvxopt import solvers"
   ]
  },
  {
   "cell_type": "code",
   "execution_count": 25,
   "metadata": {},
   "outputs": [
    {
     "name": "stdout",
     "output_type": "stream",
     "text": [
      "(1, 50)\n",
      "(100, 50)\n",
      "     pcost       dcost       gap    pres   dres   k/t\n",
      " 0:  0.0000e+00 -3.5527e-15  3e+02  9e-01  5e-16  1e+00\n",
      " 1:  3.9223e+01  3.9399e+01  6e+01  2e-01  9e-16  4e-01\n",
      " 2:  5.8134e+01  5.8186e+01  1e+01  4e-02  3e-14  1e-01\n",
      " 3:  6.3314e+01  6.3326e+01  2e+00  7e-03  8e-14  2e-02\n",
      " 4:  6.4289e+01  6.4291e+01  4e-01  1e-03  1e-13  3e-03\n",
      " 5:  6.4452e+01  6.4452e+01  7e-02  2e-04  6e-14  6e-04\n",
      " 6:  6.4483e+01  6.4483e+01  3e-03  8e-06  1e-13  2e-05\n",
      " 7:  6.4484e+01  6.4484e+01  3e-05  8e-08  8e-14  2e-07\n",
      "Optimal solution found.\n",
      "(1, 100)\n"
     ]
    },
    {
     "data": {
      "image/png": "[encoded data removed]",
      "text/plain": [
       "<Figure size 640x480 with 1 Axes>"
      ]
     },
     "metadata": {},
     "output_type": "display_data"
    }
   ],
   "source": [
    "# load and process data\n",
    "\n",
    "def data_processing():\n",
    "\n",
    "    sample_X = np.loadtxt('./PA-1-data-text/polydata_data_sampx.txt')\n",
    "    sample_Y = np.loadtxt('./PA-1-data-text/polydata_data_sampy.txt')\n",
    "    poly_X = np.loadtxt('./PA-1-data-text/polydata_data_polyx.txt')\n",
    "    poly_Y = np.loadtxt('./PA-1-data-text/polydata_data_polyy.txt')\n",
    "\n",
    "    true_theta = np.loadtxt('./PA-1-data-text/polydata_data_thtrue.txt')\n",
    "\n",
    "    sample_X = sample_X.reshape(1, len(sample_X))\n",
    "    sample_Y = sample_Y.reshape(len(sample_Y), 1)\n",
    "\n",
    "    poly_X = poly_X.reshape(1, len(poly_X))\n",
    "    poly_Y = poly_Y.reshape(len(poly_Y), 1)\n",
    "\n",
    "    # print(sample_X.shape)\n",
    "    return sample_X, sample_Y, poly_X, poly_Y\n",
    "\n",
    "# generate Phi(x).\n",
    "def generate_Phix(X, K):\n",
    "    return np.array( [ X**k for k in range(K+1)]).reshape(K+1, 1)\n",
    "\n",
    "# generate Big Phi matrix dimen is (K, N).\n",
    "def generate_Phi_mat(Sample, K):\n",
    "    return np.array( [generate_Phix(x, K) for x in Sample[0]])[:,:, (Sample.shape[0]-1)].T\n",
    "\n",
    "# Do the prediction though the fixed Theta.\n",
    "def pred_polyY(polyX, Theta, K):\n",
    "    Phi_mat_T = generate_Phi_mat(polyX, K).T\n",
    "    pred_Y = np.dot(Phi_mat_T, Theta)\n",
    "    return pred_Y\n",
    "\n",
    "def least_squares_Theta(SampleX, SampleY, K):\n",
    "    Phi_mat = generate_Phi_mat(Sample=SampleX, K=K)\n",
    "    Theta = np.dot(np.linalg.inv(np.dot(Phi_mat, Phi_mat.T)), np.dot(Phi_mat, SampleY))\n",
    "    return Theta\n",
    "\n",
    "def Regular_LS_Theta(SampleX, SampleY, K, lbda=0.1):\n",
    "    Phi_mat = generate_Phi_mat(Sample=SampleX, K=K)\n",
    "    Theta = np.dot(np.linalg.inv(np.dot(Phi_mat, Phi_mat.T) + lbda * np.ones((K+1, K+1))), np.dot(Phi_mat, SampleY))\n",
    "    return Theta\n",
    "\n",
    "def L1_LS_Theta(SampleX, SampleY, K, lbda=1):\n",
    "    # refer to the Problem Set 3.12\n",
    "    # To solve Lasso, construct the matrix: \n",
    "    # X dimen:(2(K+1), 1), H dimen:(2(K+1), 2(K+1)), f dimen:(2(K+1), 1), G and h based on constraint dimen: (2(K+1), 2(K+1)), h (2(K+1) 1) matrix\n",
    "    Phi_mat = generate_Phi_mat(SampleX, K)\n",
    "    Phi_square = np.dot(Phi_mat, Phi_mat.T)\n",
    "    Phi_y = np.dot(Phi_mat, SampleY)\n",
    "    H_left = np.concatenate((Phi_square, -Phi_square), axis=0)\n",
    "    H = np.concatenate( (H_left, -H_left), axis=1 )\n",
    "    f = lbda*np.ones((H.shape[0], 1)) - np.concatenate( (Phi_y, -Phi_y), axis=0 )\n",
    "    G = - np.identity(H.shape[0])\n",
    "    h = np.zeros( (H.shape[0], 1) )\n",
    "    Lasso_theta = solvers.qp(P=matrix(H), q=matrix(f), G=matrix(G), h=matrix(h))['x']\n",
    "    Lasso_theta = np.matrix(Lasso_theta)\n",
    "    # Lasso_theta is  [theta+, theta-]T, to get the theta = theta+ - theta-\n",
    "    Theta = Lasso_theta[: int(H.shape[0]/2)] - Lasso_theta[ int(H.shape[0]/2):]\n",
    "    print(H.shape, f.shape)\n",
    "    return Theta\n",
    "    \n",
    "def Robust_LS(SampleX, SampleY, K):\n",
    "     # refer to the Problem Set 2.10\n",
    "    # To solve Robust, construct the matrix: \n",
    "    # X dimen:((K+1) + N, 1), f dimen:((K+1) + N, 1), , A and b based on constraint dimen:(2N, (K+1) + N), b (2N， 1) matrix\n",
    "    print(SampleX.shape)\n",
    "    Phi_mat = generate_Phi_mat(SampleX, K)\n",
    "    f = np.concatenate((np.zeros((K+1,1)), np.ones((SampleX.shape[1],1))), axis=0)\n",
    "    A_left = np.concatenate( (-Phi_mat.T, Phi_mat.T), axis=0 )\n",
    "    A_right = np.concatenate( (-np.identity(SampleX.shape[1]), -np.identity(SampleX.shape[1])), axis=0)\n",
    "    print(A_right.shape)\n",
    "    A = np.concatenate( (A_left, A_right), axis=1 )\n",
    "    b = np.concatenate((-SampleY, SampleY))\n",
    "    Robust_theta = solvers.lp(G=matrix(A),c=matrix(f), h=matrix(b))['x']\n",
    "    Theta = Robust_theta[: K+1]\n",
    "    return Theta\n",
    "\n",
    "\n",
    "x, y, b, d = data_processing()\n",
    "theta = Robust_LS(x,y, 5)\n",
    "pred = pred_polyY(b, theta, 5)\n",
    "print(b.shape)\n",
    "plt.scatter(x[0], y)\n",
    "plt.plot(b[0], pred, 'b.-')\n",
    "plt.show()"
   ]
  }
 ],
 "metadata": {
  "kernelspec": {
   "display_name": "Python 3.7.13 ('regular')",
   "language": "python",
   "name": "python3"
  },
  "language_info": {
   "codemirror_mode": {
    "name": "ipython",
    "version": 3
   },
   "file_extension": ".py",
   "mimetype": "text/x-python",
   "name": "python",
   "nbconvert_exporter": "python",
   "pygments_lexer": "ipython3",
   "version": "3.7.13"
  },
  "orig_nbformat": 4,
  "vscode": {
   "interpreter": {
    "hash": "ab49c40bc0364db123f8329a65a8672dbd28424e7b2b032fe5dcc5a978d04ce3"
   }
  }
 },
 "nbformat": 4,
 "nbformat_minor": 2
}
