{
 "cells": [
  {
   "cell_type": "code",
   "execution_count": 66,
   "metadata": {},
   "outputs": [],
   "source": [
    "import os\n",
    "import cv2\n",
    "import numpy as np\n",
    "import time\n",
    "from PIL import Image\n",
    "import matplotlib.pyplot as plt\n",
    "from sklearn.svm import SVC\n",
    "from sklearn.model_selection import train_test_split\n",
    "from sklearn.metrics import accuracy_score, confusion_matrix\n",
    "from sklearn.preprocessing import StandardScaler\n",
    "import matplotlib.pyplot as plt\n",
    "from sklearn.model_selection import GridSearchCV"
   ]
  },
  {
   "cell_type": "code",
   "execution_count": 6,
   "metadata": {},
   "outputs": [],
   "source": [
    "def Load_data():\n",
    "    # Load the data\n",
    "    # Path: data_processing.ipynb\n",
    "    # Return: data, label\n",
    "    Vectors = np.loadtxt('./digits4000_txt/digits4000_txt/digits4000_digits_vec.txt')\n",
    "    Labels = np.loadtxt('./digits4000_txt/digits4000_txt/digits4000_digits_labels.txt').reshape(-1,1)\n",
    "    # train_X,test_X,train_y,test_y = train_test_split(Vectors, Labels, test_size=0.5)\n",
    "    return Vectors, Labels"
   ]
  },
  {
   "cell_type": "code",
   "execution_count": 25,
   "metadata": {},
   "outputs": [],
   "source": [
    "def Trans_data2img(x_img):\n",
    "    # transform the nparray into cv image in gray\n",
    "    image = Image.fromarray(x_img.reshape(28,28).astype(np.uint8))\n",
    "    img = cv2.cvtColor(np.asarray(image),cv2.COLOR_RGB2BGR)\n",
    "    return img\n",
    "\n",
    "\n",
    "def SIFT_extraction(img, threshold):\n",
    "    sift = cv2.SIFT_create(threshold)\n",
    "    kps, features = sift.detectAndCompute(img, None)\n",
    "    return features\n",
    "\n",
    "def Learn_vocabulary(features, K=150):\n",
    "    # K is number of the clusters\n",
    "    #set the convergence criteria for kmeans\n",
    "    criteria = (cv2.TERM_CRITERIA_EPS + cv2.TERM_CRITERIA_MAX_ITER, 10, 0.1)\n",
    "    #set the initail centroids for kmeans\n",
    "    flags = cv2.KMEANS_RANDOM_CENTERS\n",
    "\n",
    "    compactness, labels, centroids = cv2.kmeans(features, int(K), None, criteria, 10, flags)\n",
    "    return centroids\n",
    "\n",
    "\n",
    "def Set_centroids(X, threshold, K=150):\n",
    "    features = []\n",
    "    for x_img in X:\n",
    "        img = Trans_data2img(x_img)\n",
    "        # extract the SIFT features\n",
    "        img_features = SIFT_extraction(img, threshold)\n",
    "        if img_features is not None:\n",
    "            features.append(img_features)\n",
    "    features = np.vstack(features)\n",
    "\n",
    "    #learn the centroids by kmeans\n",
    "    centroids = Learn_vocabulary(features, K)\n",
    "    # save the centroids for training\n",
    "    filename = \"./SIFT_FX/SIFT_centroids.npy\"\n",
    "    np.save(filename, centroids)\n",
    "    print('vocabular package:',centroids.shape)\n",
    "    return centroids\n",
    "\n",
    "def Get_featureVec(features, centers, K=150):\n",
    "    featureVec = np.zeros((1, K))\n",
    "    for feature in features:\n",
    "        feature = np.float32(feature)\n",
    "        index = (np.sum((centers - feature) ** 2, axis=1)).argmin()\n",
    "        featureVec[0][index] += 1\n",
    "    return featureVec\n",
    "\n",
    "def Get_Vecs_from_SIFT(X, y, threshold, K=150):\n",
    "    centroids = np.load('./SIFT_FX/SIFT_centroids.npy')\n",
    "    SIFT_vecs = []\n",
    "    labels = []\n",
    "    for i in range(X.shape[0]):\n",
    "        img = Trans_data2img(X[i])\n",
    "        # extract the SIFT features\n",
    "        img_features = SIFT_extraction(img, threshold)\n",
    "        # get the feature vector\n",
    "        if img_features is not None:\n",
    "            img_vec = Get_featureVec(img_features, centroids, K)\n",
    "            SIFT_vecs.append(img_vec)\n",
    "            labels.append(y[i])\n",
    "    SIFT_vecs = np.vstack(SIFT_vecs)\n",
    "    print('data_vec:',SIFT_vecs.shape)\n",
    "    print('image features vector done!')\n",
    "    return SIFT_vecs, labels   "
   ]
  },
  {
   "cell_type": "code",
   "execution_count": 103,
   "metadata": {},
   "outputs": [
    {
     "name": "stdout",
     "output_type": "stream",
     "text": [
      "vocabular package: (150, 128)\n",
      "data_vec: (3921, 150)\n",
      "image features vector done!\n"
     ]
    }
   ],
   "source": [
    "X,y = Load_data()\n",
    "threshold = 25\n",
    "Set_centroids(X, threshold, K=150)\n",
    "SIFT_vecs, labels = Get_Vecs_from_SIFT(X, y, threshold, K=150)"
   ]
  },
  {
   "cell_type": "code",
   "execution_count": 90,
   "metadata": {},
   "outputs": [],
   "source": [
    "\n",
    "X_train, X_test, y_train, y_test = train_test_split(SIFT_vecs, labels, test_size=0.5)\n"
   ]
  },
  {
   "cell_type": "code",
   "execution_count": 92,
   "metadata": {},
   "outputs": [
    {
     "name": "stdout",
     "output_type": "stream",
     "text": [
      "(1960, 150)\n",
      "Accuracy = 0.717491075981642\n",
      "Time taken = 0.24167609214782715 sec\n"
     ]
    }
   ],
   "source": [
    "scaler = StandardScaler()\n",
    "X_train = scaler.fit_transform(X_train)\n",
    "X_test = scaler.fit_transform(X_test)\n",
    "t1 = time.time()\n",
    "clf = SVC()\n",
    "print(X_train.shape)\n",
    "clf.fit(X_train, np.array(y_train).ravel())\n",
    "t2 = time.time()\n",
    "preds = clf.predict(X_test)\n",
    "print('Accuracy = {}'.format(accuracy_score(y_test, preds)))\n",
    "print('Time taken = {} sec'.format(t2-t1))"
   ]
  },
  {
   "cell_type": "code",
   "execution_count": 95,
   "metadata": {},
   "outputs": [],
   "source": [
    "def tune_parameters(X_train, y_train):\n",
    "\n",
    "\t# t1 = time.time()\n",
    "\t# clf = SVC(kernel='rbf')\n",
    "\t# print(X_train.shape)\n",
    "\t# clf.fit(X_train, np.array(y_train).ravel())\n",
    "\t# t2 = time.time()\n",
    "\t# preds = clf.predict(X_test)\n",
    "\t# print('Accuracy = {}'.format(accuracy_score(y_test, preds)))\n",
    "\t# print('Time taken = {} sec'.format(t2-t1))\n",
    "\tparameters = [\n",
    "\t\t{\n",
    "\t\t\t'C': [1, 3, 5, 7, 9, 11, 13, 15, 17, 19],\n",
    "\t\t\t'gamma': [0.00001, 0.0001, 0.001, 0.1, 1, 10, 100, 1000],\n",
    "\t\t\t'kernel': ['rbf']\n",
    "\t\t},\n",
    "\t\t{\n",
    "\t\t\t'C': [1, 3, 5, 7, 9, 11, 13, 15, 17, 19],\n",
    "\t\t\t'kernel': ['linear']ssssss\n",
    "\t\t}\n",
    "\t]\n",
    "\n",
    "\tsvc = SVC()\n",
    "\tclf = GridSearchCV(svc, parameters, cv=3, n_jobs=8)\n",
    "\tclf.fit(X_train, y_train)\n",
    "\n",
    "\tprint(\"The best parameters are %s with a score of %0.2f\"\n",
    "\t\t% (clf.best_params_, clf.best_score_))\n",
    "\n",
    "\tscores = clf.cv_results_['mean_test_score'][0:80].reshape(8,10)\n",
    "\n",
    "\tplt.figure(figsize=(8, 6))\n",
    "\tplt.subplots_adjust(left=.2, right=0.95, bottom=0.15, top=0.95)\n",
    "\tplt.imshow(scores, interpolation='nearest', cmap=plt.cm.hot)\n",
    "\tplt.xlabel('gamma')\n",
    "\tplt.ylabel('C')\n",
    "\tplt.colorbar()\n",
    "\tplt.xticks(np.arange(8), [0.00001, 0.0001, 0.001, 0.1, 1, 10, 100, 1000], rotation=45)\n",
    "\tplt.yticks(np.arange(10), [1, 3, 5, 7, 9, 11, 13, 15, 17, 19])\n",
    "\tplt.title('RBF Validation accuracy')\n",
    "\tplt.show()\n",
    "\n",
    "\tclf = SVC(C=clf.best_params_['C'], gamma=clf.best_params_['gamma'], kernel=clf.best_params_['kernel'])\n",
    "\tclf.fit(X_train, y_train)\n",
    "\treturn clf\n"
   ]
  },
  {
   "cell_type": "code",
   "execution_count": 96,
   "metadata": {},
   "outputs": [
    {
     "name": "stderr",
     "output_type": "stream",
     "text": [
      "c:\\Users\\huancwang2\\.conda\\envs\\regular\\lib\\site-packages\\sklearn\\utils\\validation.py:993: DataConversionWarning: A column-vector y was passed when a 1d array was expected. Please change the shape of y to (n_samples, ), for example using ravel().\n",
      "  y = column_or_1d(y, warn=True)\n"
     ]
    },
    {
     "name": "stdout",
     "output_type": "stream",
     "text": [
      "The best parameters are {'C': 1, 'kernel': 'linear'} with a score of 0.90\n"
     ]
    },
    {
     "data": {
      "image/png": "[encoded data removed]",
      "text/plain": [
       "<Figure size 800x600 with 2 Axes>"
      ]
     },
     "metadata": {},
     "output_type": "display_data"
    },
    {
     "ename": "KeyError",
     "evalue": "'gamma'",
     "output_type": "error",
     "traceback": [
      "\u001b[1;31m---------------------------------------------------------------------------\u001b[0m",
      "\u001b[1;31mKeyError\u001b[0m                                  Traceback (most recent call last)",
      "\u001b[1;32m~\\AppData\\Local\\Temp\\ipykernel_6596\\2664901806.py\u001b[0m in \u001b[0;36m<module>\u001b[1;34m\u001b[0m\n\u001b[1;32m----> 1\u001b[1;33m \u001b[0mclf\u001b[0m \u001b[1;33m=\u001b[0m \u001b[0mtune_parameters\u001b[0m\u001b[1;33m(\u001b[0m\u001b[0mX_train\u001b[0m\u001b[1;33m,\u001b[0m \u001b[0my_train\u001b[0m\u001b[1;33m)\u001b[0m\u001b[1;33m\u001b[0m\u001b[1;33m\u001b[0m\u001b[0m\n\u001b[0m\u001b[0;32m      2\u001b[0m \u001b[0mpreds\u001b[0m \u001b[1;33m=\u001b[0m \u001b[0mclf\u001b[0m\u001b[1;33m.\u001b[0m\u001b[0mpredict\u001b[0m\u001b[1;33m(\u001b[0m\u001b[0mX_test\u001b[0m\u001b[1;33m)\u001b[0m\u001b[1;33m\u001b[0m\u001b[1;33m\u001b[0m\u001b[0m\n\u001b[0;32m      3\u001b[0m \u001b[0mprint\u001b[0m\u001b[1;33m(\u001b[0m\u001b[1;34m'Accuracy = {}'\u001b[0m\u001b[1;33m.\u001b[0m\u001b[0mformat\u001b[0m\u001b[1;33m(\u001b[0m\u001b[0maccuracy_score\u001b[0m\u001b[1;33m(\u001b[0m\u001b[0my_test\u001b[0m\u001b[1;33m,\u001b[0m \u001b[0mpreds\u001b[0m\u001b[1;33m)\u001b[0m\u001b[1;33m)\u001b[0m\u001b[1;33m)\u001b[0m\u001b[1;33m\u001b[0m\u001b[1;33m\u001b[0m\u001b[0m\n",
      "\u001b[1;32m~\\AppData\\Local\\Temp\\ipykernel_6596\\621036468.py\u001b[0m in \u001b[0;36mtune_parameters\u001b[1;34m(X_train, y_train)\u001b[0m\n\u001b[0;32m     41\u001b[0m         \u001b[0mplt\u001b[0m\u001b[1;33m.\u001b[0m\u001b[0mshow\u001b[0m\u001b[1;33m(\u001b[0m\u001b[1;33m)\u001b[0m\u001b[1;33m\u001b[0m\u001b[1;33m\u001b[0m\u001b[0m\n\u001b[0;32m     42\u001b[0m \u001b[1;33m\u001b[0m\u001b[0m\n\u001b[1;32m---> 43\u001b[1;33m         \u001b[0mclf\u001b[0m \u001b[1;33m=\u001b[0m \u001b[0mSVC\u001b[0m\u001b[1;33m(\u001b[0m\u001b[0mC\u001b[0m\u001b[1;33m=\u001b[0m\u001b[0mclf\u001b[0m\u001b[1;33m.\u001b[0m\u001b[0mbest_params_\u001b[0m\u001b[1;33m[\u001b[0m\u001b[1;34m'C'\u001b[0m\u001b[1;33m]\u001b[0m\u001b[1;33m,\u001b[0m \u001b[0mgamma\u001b[0m\u001b[1;33m=\u001b[0m\u001b[0mclf\u001b[0m\u001b[1;33m.\u001b[0m\u001b[0mbest_params_\u001b[0m\u001b[1;33m[\u001b[0m\u001b[1;34m'gamma'\u001b[0m\u001b[1;33m]\u001b[0m\u001b[1;33m,\u001b[0m \u001b[0mkernel\u001b[0m\u001b[1;33m=\u001b[0m\u001b[0mclf\u001b[0m\u001b[1;33m.\u001b[0m\u001b[0mbest_params_\u001b[0m\u001b[1;33m[\u001b[0m\u001b[1;34m'kernel'\u001b[0m\u001b[1;33m]\u001b[0m\u001b[1;33m)\u001b[0m\u001b[1;33m\u001b[0m\u001b[1;33m\u001b[0m\u001b[0m\n\u001b[0m\u001b[0;32m     44\u001b[0m         \u001b[0mclf\u001b[0m\u001b[1;33m.\u001b[0m\u001b[0mfit\u001b[0m\u001b[1;33m(\u001b[0m\u001b[0mX_train\u001b[0m\u001b[1;33m,\u001b[0m \u001b[0my_train\u001b[0m\u001b[1;33m)\u001b[0m\u001b[1;33m\u001b[0m\u001b[1;33m\u001b[0m\u001b[0m\n\u001b[0;32m     45\u001b[0m         \u001b[1;32mreturn\u001b[0m \u001b[0mclf\u001b[0m\u001b[1;33m\u001b[0m\u001b[1;33m\u001b[0m\u001b[0m\n",
      "\u001b[1;31mKeyError\u001b[0m: 'gamma'"
     ]
    }
   ],
   "source": [
    "clf = tune_parameters(X_train, y_train)\n",
    "preds = clf.predict(X_test)\n",
    "print('Accuracy = {}'.format(accuracy_score(y_test, preds)))"
   ]
  },
  {
   "cell_type": "code",
   "execution_count": 101,
   "metadata": {},
   "outputs": [
    {
     "name": "stdout",
     "output_type": "stream",
     "text": [
      "(2000, 784)\n",
      "Accuracy = 0.936\n",
      "Time taken = 0.2740952968597412 sec\n"
     ]
    }
   ],
   "source": [
    "X_train, X_test, y_train, y_test = train_test_split(X, y, test_size=0.5)\n",
    "# scaler = StandardScaler()\n",
    "# X_train = scaler.fit_transform(X_train)\n",
    "# X_test = scaler.fit_transform(X_test)\n",
    "t1 = time.time()\n",
    "clf = SVC()\n",
    "print(X_train.shape)\n",
    "clf.fit(X_train, np.array(y_train).ravel())\n",
    "t2 = time.time()\n",
    "preds = clf.predict(X_test)\n",
    "print('Accuracy = {}'.format(accuracy_score(y_test, preds)))\n",
    "print('Time taken = {} sec'.format(t2-t1))"
   ]
  }
 ],
 "metadata": {
  "kernelspec": {
   "display_name": "Python 3.7.13 ('regular')",
   "language": "python",
   "name": "python3"
  },
  "language_info": {
   "codemirror_mode": {
    "name": "ipython",
    "version": 3
   },
   "file_extension": ".py",
   "mimetype": "text/x-python",
   "name": "python",
   "nbconvert_exporter": "python",
   "pygments_lexer": "ipython3",
   "version": "3.7.13"
  },
  "orig_nbformat": 4,
  "vscode": {
   "interpreter": {
    "hash": "ab49c40bc0364db123f8329a65a8672dbd28424e7b2b032fe5dcc5a978d04ce3"
   }
  }
 },
 "nbformat": 4,
 "nbformat_minor": 2
}
