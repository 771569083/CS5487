{
 "cells": [
  {
   "cell_type": "code",
   "execution_count": 27,
   "metadata": {},
   "outputs": [],
   "source": [
    "from PIL import Image\n",
    "import numpy as np\n",
    "import pylab as pl\n",
    "import cv2 as cv\n",
    "from sklearn.model_selection import train_test_split\n",
    "from sklearn import svm\n",
    "from sklearn.metrics import accuracy_score\n",
    "import joblib\n",
    "from scipy.cluster.vq import *\n",
    "from sklearn.preprocessing import StandardScaler\n",
    "import pandas as pd\n"
   ]
  },
  {
   "cell_type": "code",
   "execution_count": 2,
   "metadata": {},
   "outputs": [],
   "source": [
    "def Load_data():\n",
    "    # Load the data\n",
    "    # Path: data_processing.ipynb\n",
    "    # Return: data, label\n",
    "    Vectors = np.loadtxt('./digits4000_txt/digits4000_txt/digits4000_digits_vec.txt')\n",
    "    Labels = np.loadtxt('./digits4000_txt/digits4000_txt/digits4000_digits_labels.txt').reshape(-1,1)\n",
    "    train_X,test_X,train_y,test_y = train_test_split(Vectors, Labels, test_size=0.5)\n",
    "    return train_X,test_X,train_y,test_y"
   ]
  },
  {
   "cell_type": "code",
   "execution_count": 3,
   "metadata": {},
   "outputs": [],
   "source": [
    "train_X, test_X, train_y, test_y = Load_data()"
   ]
  },
  {
   "cell_type": "markdown",
   "metadata": {},
   "source": [
    "SIFT features extraction"
   ]
  },
  {
   "cell_type": "code",
   "execution_count": 36,
   "metadata": {},
   "outputs": [],
   "source": [
    "def Trans_data2img(x_img):\n",
    "    # transform the nparray into cv image in gray\n",
    "    image = Image.fromarray(x_img.reshape(28,28).astype(np.uint8))\n",
    "    img = cv.cvtColor(np.asarray(image),cv.COLOR_RGB2BGR)\n",
    "    return img\n",
    "\n",
    "\n",
    "def SIFT_extraction(img):\n",
    "    sift = cv.SIFT_create()\n",
    "    kps, features = sift.detectAndCompute(img, None)\n",
    "    return features\n",
    "\n",
    "def Learn_vocabulary(features, y, K=2000):\n",
    "    # K is number of the clusters\n",
    "    #set the convergence criteria for kmeans\n",
    "    criteria = (cv.TERM_CRITERIA_EPS + cv.TERM_CRITERIA_MAX_ITER, 20, 0.1)\n",
    "    #set the initail centroids for kmeans\n",
    "    flags = cv.KMEANS_RANDOM_CENTERS\n",
    "\n",
    "    compactness, labels, centroids = cv.kmeans(features, K, y, criteria, 20, flags)\n",
    "    return centroids\n",
    "\n",
    "\n",
    "def Set_centroids(X, y):\n",
    "    features = np.float32([]).reshape(0, 128)\n",
    "    for x_img in X:\n",
    "        try:\n",
    "            img = Trans_data2img(x_img)\n",
    "            # extract the SIFT features\n",
    "            img_features = SIFT_extraction(img)\n",
    "            features = np.append(features, img_features, axis=0)\n",
    "        except:\n",
    "            pl.imshow(img)\n",
    "    #learn the centroids by kmeans\n",
    "    centroids = Learn_vocabulary(features, y)\n",
    "    # save the centroids for training\n",
    "    filename = \"./SIFT_FX/SIFT_centroids.npy\"\n",
    "    np.save(filename, centroids)\n",
    "    print('vocabular package:',centroids.shape)\n",
    "    return centroids\n",
    "\n",
    "def Get_featureVec(features, centers, K=2000):\n",
    "    featureVec = np.zeros((1, K))\n",
    "    for feature in features:\n",
    "        feature = np.float32(feature)\n",
    "        index = (np.sum((centers - feature) ** 2, axis=1)).argmin()\n",
    "        featureVec[0][index] += 1\n",
    "    return featureVec\n",
    "\n",
    "def Get_Vecs_from_SIFT(X, y, K=2000):\n",
    "    centroids = np.load('./SIFT_FX/SIFT_centroids.npy')\n",
    "    SIFT_vecs = np.float32([]).reshape(0, K)\n",
    "    labels = np.float32([])\n",
    "    for i in range(X.shape[0]):\n",
    "        try:\n",
    "            img = Trans_data2img(X[i])\n",
    "            # extract the SIFT features\n",
    "            img_features = SIFT_extraction(img)\n",
    "            # get the feature vector\n",
    "            img_vec = Get_featureVec(img_features, centroids)\n",
    "            SIFT_vecs = np.append(SIFT_vecs, img_vec, axis=0)\n",
    "            labels = np.append(labels, y[i])\n",
    "        except:\n",
    "            pl.imshow(img)\n",
    "    print('data_vec:',SIFT_vecs.shape)\n",
    "    print('image features vector done!')\n",
    "    return SIFT_vecs, labels   \n"
   ]
  },
  {
   "cell_type": "markdown",
   "metadata": {},
   "source": [
    "PCA"
   ]
  },
  {
   "cell_type": "markdown",
   "metadata": {},
   "source": [
    "LDA"
   ]
  },
  {
   "cell_type": "code",
   "execution_count": 29,
   "metadata": {},
   "outputs": [],
   "source": [
    "def SVM_train(SIFT_vec,labels):\n",
    "\n",
    "    clf = svm.SVC(decision_function_shape='ovo')\n",
    "\n",
    "    clf.fit(SIFT_vec,labels)\n",
    "    joblib.dump(clf, './SIFT_FX/SIFT_SVM_model.m')\n",
    "\n",
    "def SVM_test(SIFT_vec,labels):\n",
    "    clf = joblib.load('./SIFT_FX/SIFT_SVM_model.m')\n",
    "    y_pred = clf.predict(SIFT_vec)\n",
    "    print('accuracy:',accuracy_score(labels,y_pred))    \n"
   ]
  },
  {
   "cell_type": "code",
   "execution_count": 37,
   "metadata": {},
   "outputs": [
    {
     "name": "stdout",
     "output_type": "stream",
     "text": [
      "vocabular package: (2000, 128)\n"
     ]
    },
    {
     "data": {
      "image/png": "[encoded data removed]",
      "text/plain": [
       "<Figure size 640x480 with 1 Axes>"
      ]
     },
     "metadata": {},
     "output_type": "display_data"
    }
   ],
   "source": [
    "centroids = Set_centroids(train_X, train_y)"
   ]
  },
  {
   "cell_type": "code",
   "execution_count": 35,
   "metadata": {},
   "outputs": [
    {
     "name": "stderr",
     "output_type": "stream",
     "text": [
      "c:\\Users\\huancwang2\\.conda\\envs\\regular\\lib\\site-packages\\sklearn\\utils\\validation.py:993: DataConversionWarning: A column-vector y was passed when a 1d array was expected. Please change the shape of y to (n_samples, ), for example using ravel().\n",
      "  y = column_or_1d(y, warn=True)\n"
     ]
    },
    {
     "name": "stdout",
     "output_type": "stream",
     "text": [
      "accuracy: 0.9375\n"
     ]
    }
   ],
   "source": [
    "clf = svm.SVC(decision_function_shape='ovo')\n",
    "clf.fit(train_X, train_y)\n",
    "y_pred  = clf.predict(test_X)\n",
    "print('accuracy:',accuracy_score(test_y,y_pred))"
   ]
  },
  {
   "cell_type": "code",
   "execution_count": 38,
   "metadata": {},
   "outputs": [
    {
     "name": "stdout",
     "output_type": "stream",
     "text": [
      "data_vec: (1968, 2000)\n",
      "image features vector done!\n",
      "data_vec: (1953, 2000)\n",
      "image features vector done!\n",
      "accuracy: 0.6666666666666666\n"
     ]
    },
    {
     "data": {
      "image/png": "[encoded data removed]",
      "text/plain": [
       "<Figure size 640x480 with 1 Axes>"
      ]
     },
     "metadata": {},
     "output_type": "display_data"
    }
   ],
   "source": [
    "if __name__ == '__main__':\n",
    "    SIFT_vec, labels = Get_Vecs_from_SIFT(train_X, train_y)\n",
    "    stdSlr = StandardScaler().fit(SIFT_vec)\n",
    "    im_features = stdSlr.transform(SIFT_vec)\n",
    "    SVM_train(im_features, labels)\n",
    "    SIFT_vec, labels = Get_Vecs_from_SIFT(test_X, test_y)\n",
    "\n",
    "    stdSlr = StandardScaler().fit(SIFT_vec)\n",
    "    im_features = stdSlr.transform(SIFT_vec)\n",
    "    SVM_test(im_features, labels)"
   ]
  }
 ],
 "metadata": {
  "kernelspec": {
   "display_name": "Python 3.7.13 ('regular')",
   "language": "python",
   "name": "python3"
  },
  "language_info": {
   "codemirror_mode": {
    "name": "ipython",
    "version": 3
   },
   "file_extension": ".py",
   "mimetype": "text/x-python",
   "name": "python",
   "nbconvert_exporter": "python",
   "pygments_lexer": "ipython3",
   "version": "3.7.13"
  },
  "orig_nbformat": 4,
  "vscode": {
   "interpreter": {
    "hash": "ab49c40bc0364db123f8329a65a8672dbd28424e7b2b032fe5dcc5a978d04ce3"
   }
  }
 },
 "nbformat": 4,
 "nbformat_minor": 2
}
